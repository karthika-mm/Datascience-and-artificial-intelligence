{
 "cells": [
  {
   "cell_type": "code",
   "execution_count": 2,
   "metadata": {},
   "outputs": [
    {
     "name": "stdout",
     "output_type": "stream",
     "text": [
      "(11, [222, 33], 44, 55)\n"
     ]
    }
   ],
   "source": [
    "#Q1 Modify the first item (22) of a list inside a following tuple to 222\n",
    "#tuple1 = (11, [22, 33], 44, 55)\n",
    "\n",
    "\n",
    "tuple1 = (11, [22, 33], 44, 55)\n",
    "tuple1[1][0] = 222\n",
    "print(tuple1)"
   ]
  },
  {
   "cell_type": "code",
   "execution_count": 5,
   "metadata": {},
   "outputs": [
    {
     "name": "stdout",
     "output_type": "stream",
     "text": [
      "2\n"
     ]
    }
   ],
   "source": [
    " #Q2Count the number of occurrences of item 50 from a tuple\n",
    "#tuple1 = (50, 10, 60, 70, 50)\n",
    "\n",
    "tuple1 = (50, 10, 60, 70, 50)\n",
    "print(tuple1.count(50))"
   ]
  },
  {
   "cell_type": "code",
   "execution_count": null,
   "metadata": {},
   "outputs": [],
   "source": [
    "#Q3Write a Python program to convert a list to a tuple"
   ]
  }
 ],
 "metadata": {
  "kernelspec": {
   "display_name": "Python 3",
   "language": "python",
   "name": "python3"
  },
  "language_info": {
   "codemirror_mode": {
    "name": "ipython",
    "version": 3
   },
   "file_extension": ".py",
   "mimetype": "text/x-python",
   "name": "python",
   "nbconvert_exporter": "python",
   "pygments_lexer": "ipython3",
   "version": "3.8.3"
  }
 },
 "nbformat": 4,
 "nbformat_minor": 4
}
