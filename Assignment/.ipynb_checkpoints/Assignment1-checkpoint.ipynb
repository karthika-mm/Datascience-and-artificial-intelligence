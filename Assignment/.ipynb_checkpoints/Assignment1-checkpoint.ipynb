{
 "cells": [
  {
   "cell_type": "code",
   "execution_count": 2,
   "metadata": {},
   "outputs": [
    {
     "name": "stdout",
     "output_type": "stream",
     "text": [
      "Please Enter your string: lopi\n",
      "condition violated \n"
     ]
    }
   ],
   "source": [
    "#1 Input a string of odd length (minimum 9 characters), print a string made of the 3 middle characters from input string\n",
    "str1=input(\"Please Enter your string: \")\n",
    "\n",
    "#check the condition  if they meet\n",
    "if int(len(str1)<9) and len(str1)%2==0: \n",
    "    print(\"condition violated \")\n",
    "else :\n",
    "    #find the 3 middile charcter of a string\n",
    "    length = int(len(str1)/2)\n",
    "    str2=str1[length-1:length+2]\n",
    "    print(str2)"
   ]
  },
  {
   "cell_type": "code",
   "execution_count": 3,
   "metadata": {},
   "outputs": [
    {
     "name": "stdout",
     "output_type": "stream",
     "text": [
      "Enter the limit of Number:4566\n",
      "Sum of first  4566 numbers is:  10426461.0\n",
      "Avg of first  4566 numbers is:  2283.5\n"
     ]
    }
   ],
   "source": [
    "#2. Calculate the sum and average of first n natural numbers \n",
    "#a. using for loop\n",
    "\n",
    "n=int(input(\"Enter the limit of Number:\"))\n",
    "s=0\n",
    "av=0\n",
    "#calculating sum and average\n",
    "for num in range(0, n+1, 1):\n",
    "    s = n * (n+1) / 2\n",
    "    av  = s / n\n",
    "#display sum and average        \n",
    "print(\"Sum of first \", n, \"numbers is: \", s )\n",
    "print(\"Avg of first \", n, \"numbers is: \", av )\n",
    "\n",
    "\n",
    "\n"
   ]
  },
  {
   "cell_type": "code",
   "execution_count": 35,
   "metadata": {},
   "outputs": [
    {
     "name": "stdout",
     "output_type": "stream",
     "text": [
      "Enter limit:4\n",
      "Sum of first  5 numbers is:  15.0\n",
      "Avg of first  5 numbers is:  7.5\n"
     ]
    }
   ],
   "source": [
    "#b.using while loop\n",
    "num=int(input(\"Enter limit:\"))\n",
    "su=0\n",
    "avg=0\n",
    "val=1\n",
    "\n",
    "while val<=num:\n",
    "    su=n*(n+1)/2\n",
    "    avg=su/2\n",
    "    val=val+1\n",
    "    \n",
    "    \n",
    "print(\"Sum of first \", n, \"numbers : \", su )\n",
    "print(\"Avg of first \", n, \"numbers is: \", avg )\n",
    "       \n",
    "    "
   ]
  },
  {
   "cell_type": "code",
   "execution_count": 5,
   "metadata": {},
   "outputs": [
    {
     "name": "stdout",
     "output_type": "stream",
     "text": [
      "Enter 5 number in a list\n",
      "\n",
      "\n",
      "45\n",
      "56\n",
      "45\n",
      "12\n",
      "12\n",
      "User List = [45.0, 56.0, 45.0, 12.0, 12.0]\n"
     ]
    }
   ],
   "source": [
    "#3Accept list of 5 float numbers as input from user using loop and store values in a list\n",
    "\n",
    "print(\"Enter 5 number in a list\")\n",
    "userlist = []\n",
    "n =5\n",
    "print(\"\\n\")\n",
    "# accepting  5floating values and insert into list\n",
    "for i in range(0, n):\n",
    "    num = float(input())\n",
    "    userlist.append(num)\n",
    "    #display the user list\n",
    "print(\"User List =\", userlist)"
   ]
  },
  {
   "cell_type": "code",
   "execution_count": null,
   "metadata": {},
   "outputs": [],
   "source": [
    "#4 a)\n",
    "rows = 5\n",
    "for i in range(1, rows+1):\n",
    "    for j in range(1, i+ 1):\n",
    "        print(j, end=' ')\n",
    "    print(\"\")\n"
   ]
  },
  {
   "cell_type": "code",
   "execution_count": 9,
   "metadata": {},
   "outputs": [
    {
     "name": "stdout",
     "output_type": "stream",
     "text": [
      "1 2 3 4 5 \r\n",
      "1 2 3 4 \r\n",
      "1 2 3 \r\n",
      "1 2 \r\n",
      "1 \r\n",
      "\r\n"
     ]
    }
   ],
   "source": [
    "#4 b\n",
    "rows = 5\n",
    "\n",
    "for i in range(rows+1, 0, -1):\n",
    "    for j in range(1, i):\n",
    "        print(j, end=' ')\n",
    "    print('\\r')\n",
    "        \n",
    "         \n",
    "\n",
    "    "
   ]
  },
  {
   "cell_type": "code",
   "execution_count": 6,
   "metadata": {},
   "outputs": [
    {
     "name": "stdout",
     "output_type": "stream",
     "text": [
      "Enter number:45666\n",
      "The  digits in the number are: 5\n"
     ]
    }
   ],
   "source": [
    "#5   input a number, count and print the total number of digits in that number using while loop\n",
    "num=int(input(\"Enter number:\"))\n",
    "count=0\n",
    "while(num>0):\n",
    "    count=count+1\n",
    "    num=num//10\n",
    "print(\"The  digits in the number :\",count)"
   ]
  },
  {
   "cell_type": "code",
   "execution_count": 15,
   "metadata": {},
   "outputs": [
    {
     "name": "stdout",
     "output_type": "stream",
     "text": [
      " odd index list one\n",
      "[6, 12, 18]\n",
      " even index list Two\n",
      "[4, 12, 20, 28]\n",
      "The Thrird list= [6, 12, 18, 4, 12, 20, 28]\n"
     ]
    }
   ],
   "source": [
    "#6 Given two lists. Create a third list by picking an odd-index element from the first list and even index elements from second\n",
    "\n",
    "listOne = [3, 6, 9, 12, 15, 18, 21]\n",
    "listTwo = [4, 8, 12, 16, 20, 24, 28]\n",
    "\n",
    "\n",
    "oddindex = listOne[1::2]\n",
    "print(\" odd index list one\")\n",
    "print(oddindex)\n",
    "\n",
    "Evenindex = listTwo[0::2]\n",
    "print(\" even index list Two\")\n",
    "\n",
    "print(Evenindex)\n",
    "\n",
    "listThree=oddindex+Evenindex\n",
    "print(\"The Thrird list=\",listThree)\n",
    "      \n"
   ]
  },
  {
   "cell_type": "code",
   "execution_count": 13,
   "metadata": {},
   "outputs": [
    {
     "name": "stdout",
     "output_type": "stream",
     "text": [
      "50\n",
      "4\n",
      "30\n",
      "20\n",
      "10\n"
     ]
    }
   ],
   "source": [
    "#8Reverse the following list using for loop and range\n",
    "\n",
    "#list1 = [10, 20, 30, 4, 50] reverse list using \n",
    "list1 = [10, 20, 30, 4, 50]\n",
    "k=len(list1)\n",
    "for i in range(k-1,-1,-1):\n",
    "    print(list1[i])"
   ]
  },
  {
   "cell_type": "code",
   "execution_count": 42,
   "metadata": {},
   "outputs": [
    {
     "name": "stdout",
     "output_type": "stream",
     "text": [
      "limt of list4\n",
      "Enter the elements\n",
      "7\n",
      "4\n",
      "8\n",
      "2\n",
      " List = [7, 4, 8, 2]\n",
      "Smallest element in the list  : 2\n"
     ]
    }
   ],
   "source": [
    "#7 program to get the smallest number from a list.\n",
    "list2 = []\n",
    "\n",
    "n = int(input('limt of list'))\n",
    "\n",
    "print(\"Enter the elements\")\n",
    "for i in range(n):\n",
    "    num = int(input())\n",
    "    list2.append(num)\n",
    "    \n",
    "print(\" List =\", list2)\n",
    "print(\"Smallest element in the list  :\", min(list2))"
   ]
  }
 ],
 "metadata": {
  "kernelspec": {
   "display_name": "Python 3",
   "language": "python",
   "name": "python3"
  },
  "language_info": {
   "codemirror_mode": {
    "name": "ipython",
    "version": 3
   },
   "file_extension": ".py",
   "mimetype": "text/x-python",
   "name": "python",
   "nbconvert_exporter": "python",
   "pygments_lexer": "ipython3",
   "version": "3.8.3"
  }
 },
 "nbformat": 4,
 "nbformat_minor": 4
}
