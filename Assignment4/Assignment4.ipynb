{
 "cells": [
  {
   "cell_type": "code",
   "execution_count": 7,
   "metadata": {},
   "outputs": [],
   "source": [
    "#Q1 : create a txt file, enter multiple lines of text. read this file line by line and store it into a list. \n",
    "#Apply exception handling technique\n",
    "\n",
    "\n",
    "\n"
   ]
  },
  {
   "cell_type": "code",
   "execution_count": 9,
   "metadata": {},
   "outputs": [
    {
     "name": "stdout",
     "output_type": "stream",
     "text": [
      "Writing file.txt\n"
     ]
    }
   ],
   "source": [
    "%%writefile file.txt\n",
    "Line 1\n",
    "Line 2\n",
    "Line 3\n",
    "Line 4"
   ]
  },
  {
   "cell_type": "code",
   "execution_count": 10,
   "metadata": {},
   "outputs": [
    {
     "name": "stdout",
     "output_type": "stream",
     "text": [
      "['Line 1\\n', 'Line 2\\n', 'Line 3\\n', 'Line 4\\n']\n"
     ]
    }
   ],
   "source": [
    "op=open(\"file.txt\")\n",
    "op.seek(0)\n",
    "lst=list(op.readlines())\n",
    "print(lst)"
   ]
  },
  {
   "cell_type": "code",
   "execution_count": 11,
   "metadata": {},
   "outputs": [
    {
     "name": "stdout",
     "output_type": "stream",
     "text": [
      "Error: not writable\n"
     ]
    }
   ],
   "source": [
    "try:\n",
    "    op1=open(\"file.txt\")\n",
    "    op1.write(\"line\")\n",
    "    \n",
    "except Exception as error:\n",
    "    print(\"Error:\",error)"
   ]
  },
  {
   "cell_type": "code",
   "execution_count": 7,
   "metadata": {},
   "outputs": [],
   "source": []
  },
  {
   "cell_type": "code",
   "execution_count": 1,
   "metadata": {},
   "outputs": [
    {
     "name": "stdout",
     "output_type": "stream",
     "text": [
      "index not found\n"
     ]
    }
   ],
   "source": [
    "#Q2: Write a Python program to write below list content to a file. Apply exception handling technique\n",
    "color = ['Red', 'Green', 'White', 'Black', 'Pink', 'Yellow']\n",
    "\n",
    "op1=open(\"colors.txt\",'w')\n",
    "for i in color:\n",
    "    op1.write(i+\"\\n\")\n",
    "    \n",
    "try:\n",
    "    rd=open(\"colors.txt\")\n",
    "    lst1=rd.readlines()\n",
    "    print(lst1[6])\n",
    "except IndexError as error:\n",
    "    print(\"index not found\")\n"
   ]
  },
  {
   "cell_type": "code",
   "execution_count": 15,
   "metadata": {},
   "outputs": [],
   "source": [
    "#Q3 : create a txt file, enter multiple lines of text. remove newline characters from created file and print as a list.\n",
    "#Apply exception handling techniques wherever possible\n"
   ]
  },
  {
   "cell_type": "code",
   "execution_count": 55,
   "metadata": {},
   "outputs": [
    {
     "name": "stdout",
     "output_type": "stream",
     "text": [
      "Overwriting remove.txt\n"
     ]
    }
   ],
   "source": [
    "%%writefile remove.txt\n",
    "Line1 \n",
    "Line2\n"
   ]
  },
  {
   "cell_type": "code",
   "execution_count": 6,
   "metadata": {},
   "outputs": [
    {
     "name": "stdout",
     "output_type": "stream",
     "text": [
      "['Line1', 'Line2']\n"
     ]
    }
   ],
   "source": [
    "try:\n",
    "    op=open(\"remove.txt\")\n",
    "    op.seek(0)\n",
    "    lst1=list(op.readlines())\n",
    "    lst2=[]\n",
    "    for i in lst1:\n",
    "        lst2.append(i.rstrip())\n",
    "        \n",
    "    print(lst2)\n",
    "except IndexError as error:\n",
    "    print(\"error in try\")\n",
    "    \n",
    "     \n",
    "\n"
   ]
  },
  {
   "cell_type": "code",
   "execution_count": 65,
   "metadata": {},
   "outputs": [],
   "source": [
    "#Q4 : create a testfile1.txt file, enter multiple lines of text . Now copy contents of testfile1.txt to new file testfile22.txt. \n",
    "#Apply exception handling techniques  wherever possible\n",
    "\n",
    "    \n",
    "    "
   ]
  },
  {
   "cell_type": "code",
   "execution_count": 93,
   "metadata": {},
   "outputs": [
    {
     "name": "stdout",
     "output_type": "stream",
     "text": [
      "Overwriting file4.txt\n"
     ]
    }
   ],
   "source": [
    "%%writefile \"file4.txt\"\n",
    "line1 \n",
    "line2\n"
   ]
  },
  {
   "cell_type": "code",
   "execution_count": 94,
   "metadata": {},
   "outputs": [
    {
     "name": "stderr",
     "output_type": "stream",
     "text": [
      "UsageError: %%writefile is a cell magic, but the cell body is empty.\n"
     ]
    }
   ],
   "source": [
    "%%writefile \"file5.txt\""
   ]
  },
  {
   "cell_type": "code",
   "execution_count": 95,
   "metadata": {},
   "outputs": [
    {
     "name": "stdout",
     "output_type": "stream",
     "text": [
      "['line1 \\n', 'line2\\n']\n"
     ]
    }
   ],
   "source": [
    "try:\n",
    "    op=open(\"file4.txt\")\n",
    "    p=open(\"file5.txt\",'w')\n",
    "    op.seek(0)\n",
    "    list1=op.readlines()\n",
    "    p.write(str(list1))\n",
    "    print(list1)\n",
    "    \n",
    "except IndexError as error:\n",
    "    print(\"Error in Try\")"
   ]
  },
  {
   "cell_type": "code",
   "execution_count": null,
   "metadata": {},
   "outputs": [],
   "source": []
  }
 ],
 "metadata": {
  "kernelspec": {
   "display_name": "Python 3",
   "language": "python",
   "name": "python3"
  },
  "language_info": {
   "codemirror_mode": {
    "name": "ipython",
    "version": 3
   },
   "file_extension": ".py",
   "mimetype": "text/x-python",
   "name": "python",
   "nbconvert_exporter": "python",
   "pygments_lexer": "ipython3",
   "version": "3.8.3"
  }
 },
 "nbformat": 4,
 "nbformat_minor": 4
}
