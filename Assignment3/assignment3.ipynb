{
 "cells": [
  {
   "cell_type": "code",
   "execution_count": 1,
   "metadata": {},
   "outputs": [
    {
     "data": {
      "text/plain": [
       "(80, 20)"
      ]
     },
     "execution_count": 1,
     "metadata": {},
     "output_type": "execute_result"
    }
   ],
   "source": [
    "#Q1: Write a function calculation() such that it can accept two  variables as arguments and calculate the addition and \n",
    "#subtraction of it. And also it must return both addition and  subtraction in a single return call\n",
    "\n",
    "\n",
    "def calculation(a, b):\n",
    "    return a+b, a-b\n",
    "\n",
    "op = calculation(50,30)\n",
    "op\n"
   ]
  },
  {
   "cell_type": "code",
   "execution_count": 11,
   "metadata": {},
   "outputs": [
    {
     "name": "stdout",
     "output_type": "stream",
     "text": [
      "Employee anu salary  9000\n",
      "Employee anu salary  9000\n"
     ]
    }
   ],
   "source": [
    "#Q2 : Create a function showEmployee() in such a way that it should accept employee name, and it’s salary and display both, \n",
    "#and if the salary is missing in function call it should show it as 9000\n",
    "\n",
    "def showEmployee(name, salary=9000):\n",
    "    print(\"Employee\", name, \"salary \", salary)\n",
    "\n",
    "showEmployee(\"anu\", 9000)\n",
    "showEmployee(\"anu\")\n"
   ]
  },
  {
   "cell_type": "code",
   "execution_count": 6,
   "metadata": {},
   "outputs": [
    {
     "data": {
      "text/plain": [
       "{'a': 1, 'w': 1, 'e': 2, 's': 1, 'o': 1, 'm': 1}"
      ]
     },
     "execution_count": 6,
     "metadata": {},
     "output_type": "execute_result"
    }
   ],
   "source": [
    "#Q3 : Write a function called multipleLetterCount. This function  takes in one parameter (a string) and returns a dictionary \n",
    "#with the keys being the letters and the value being the count of the letter\n",
    "\n",
    "# multipleLetterCount('awesome') \n",
    "# {'a': 1, 'e': 2, 'm': 1, 'o': 1, 's': 1, 'w': 1}\n",
    "\n",
    "# defining function\n",
    "def multipleLetterCount(str1):\n",
    "    dict = {}\n",
    "    for i in str1:\n",
    "        key = dict.key()\n",
    "        if i in keys:\n",
    "            dict[i] += 1\n",
    "        else:\n",
    "            dict[i] = 1\n",
    "    return dict\n",
    "count=multipleLetterCount('awesome')\n",
    "count\n",
    "                          \n",
    "\n",
    "\n",
    "\n"
   ]
  }
 ],
 "metadata": {
  "kernelspec": {
   "display_name": "Python 3",
   "language": "python",
   "name": "python3"
  },
  "language_info": {
   "codemirror_mode": {
    "name": "ipython",
    "version": 3
   },
   "file_extension": ".py",
   "mimetype": "text/x-python",
   "name": "python",
   "nbconvert_exporter": "python",
   "pygments_lexer": "ipython3",
   "version": "3.8.3"
  }
 },
 "nbformat": 4,
 "nbformat_minor": 4
}
